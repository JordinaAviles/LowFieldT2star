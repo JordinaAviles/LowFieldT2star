{
 "cells": [
  {
   "cell_type": "code",
   "execution_count": 1,
   "id": "52131b74",
   "metadata": {},
   "outputs": [],
   "source": [
    "# Imports\n",
    "\n",
    "import os\n",
    "import numpy as np\n",
    "import SimpleITK as sitk\n",
    "from matplotlib import pyplot as plt\n",
    "from scipy.optimize import least_squares \n",
    "import math\n",
    "import numpy as np\n",
    "from natsort import natsorted\n",
    "from dicom_parser import Header\n",
    "import dicom2nifti"
   ]
  },
  {
   "cell_type": "markdown",
   "id": "2da21064",
   "metadata": {},
   "source": [
    "Here are some **tips** to run the code smoothly with no (or very few) changes:\n",
    "\n",
    "- **Required data** to run this code is: dicom series, nifti image file and nifti mask file\n",
    "\n",
    "- Make sure you **change all paths** in the code when using for the first time. \n",
    "\n",
    "- File names should contain a **case identifier, sequence type name and roi name** (if you have several rois) for the code to work. Here you have an example:\n",
    "\n",
    "    - Case identifier -> Case1\n",
    "    - Sequence type name -> ME_gp2_ (for a multi-echo grappa sequence)\n",
    "    - roi name -> placenta\n",
    " \n",
    "Feel free to adapt the code to your needs!\n"
   ]
  },
  {
   "cell_type": "code",
   "execution_count": 36,
   "id": "e3e996b8",
   "metadata": {},
   "outputs": [],
   "source": [
    "# Case name\n",
    "case_name = \"AB_20220718\"\n",
    "\n",
    "# T2star sequence type (non-accelerated, grappa, grappa+sms)\n",
    "sequence_type = \"ME_p1_\"\n",
    "\n",
    "# Region of interest\n",
    "roi = \"placenta\"\n",
    "\n",
    "# Directory to DICOM and NIFTI data\n",
    "dicom_directory = \"C:/Users/jv21/Desktop/PhD/Scans/FreeMax/\"+ case_name +\"/\"+ sequence_type + roi\n",
    "nifti_directory = \"C:/Users/jv21/Desktop/PhD/Scans/FreeMax/\"+ case_name +\"/\"+ case_name + \"_\" + sequence_type + roi + \".nii.gz\"\n",
    "\n",
    "# Reader - read all of the DICOM metadata information, including private data (multiple series possible)\n",
    "reader = sitk.ImageSeriesReader()\n",
    "series_ids = reader.GetGDCMSeriesIDs(dicom_directory)\n",
    "dicom_names = reader.GetGDCMSeriesFileNames(dicom_directory,series_ids[0])\n",
    "reader.SetFileNames(dicom_names)\n",
    "reader.MetaDataDictionaryArrayUpdateOn()\n",
    "reader.LoadPrivateTagsOn()\n",
    "main_image = reader.Execute()\n",
    "meta_keys = reader.GetMetaDataKeys(0)"
   ]
  },
  {
   "cell_type": "code",
   "execution_count": 37,
   "id": "b0657f7f",
   "metadata": {
    "scrolled": true
   },
   "outputs": [
    {
     "name": "stdout",
     "output_type": "stream",
     "text": [
      "Image shape is: (9, 22, 100, 100)\n"
     ]
    },
    {
     "data": {
      "text/plain": [
       "<matplotlib.image.AxesImage at 0x1e8a5ef4e80>"
      ]
     },
     "execution_count": 37,
     "metadata": {},
     "output_type": "execute_result"
    },
    {
     "data": {
      "image/png": "[encoded data removed]",
      "text/plain": [
       "<Figure size 432x288 with 1 Axes>"
      ]
     },
     "metadata": {
      "needs_background": "light"
     },
     "output_type": "display_data"
    }
   ],
   "source": [
    "# Read Image\n",
    "main_image_arr = sitk.GetArrayFromImage(main_image)\n",
    "\n",
    "# Image shape\n",
    "print('Image shape is:',main_image_arr.shape)\n",
    "\n",
    "# Show one slice\n",
    "plt.imshow(main_image_arr[0,:,50,:], cmap='gray')"
   ]
  },
  {
   "cell_type": "code",
   "execution_count": 38,
   "id": "853de310",
   "metadata": {},
   "outputs": [
    {
     "name": "stdout",
     "output_type": "stream",
     "text": [
      "Number of echoes is: 3\n",
      "TEs are: [81, 225, 369]\n"
     ]
    }
   ],
   "source": [
    "# Extra functions/variables \n",
    "\n",
    "# The way dicom data is stored might chang, thus some changes might need to be done in this section.\n",
    "\n",
    "# Find number of measurements\n",
    "nO_meas = main_image_arr.shape[0]\n",
    "\n",
    "# Find number of echoes (works for 3 & 5 echoes, change if needed)\n",
    "if (nO_meas % 5 == 0):\n",
    "    nO_echoes = 5\n",
    "elif (nO_meas % 3 == 0):\n",
    "    nO_echoes = 3\n",
    "\n",
    "# Find number of slices \n",
    "nO_slices = main_image_arr.shape[1]\n",
    "\n",
    "#  Find x and y dimensions\n",
    "x_dim = main_image_arr.shape[2]\n",
    "y_dim = main_image_arr.shape[3]\n",
    "\n",
    "# Get TE array\n",
    "TE_array = []\n",
    "\n",
    "for i in range(nO_echoes):\n",
    "    header = Header(dicom_names[i])\n",
    "    csa_TE = header.get('PerFrameFunctionalGroupsSequence')[0]['MREchoSequence'][0]\n",
    "    TE = int(csa_TE.get('EffectiveEchoTime'))\n",
    "    TE_array.append(TE)\n",
    "\n",
    "print('Number of echoes is:', nO_echoes)\n",
    "print('TEs are:', TE_array)"
   ]
  },
  {
   "cell_type": "code",
   "execution_count": 39,
   "id": "0d86cc59",
   "metadata": {},
   "outputs": [],
   "source": [
    "# Crop image to region of interest\n",
    "\n",
    "ROI_path = \"C:/Users/jv21/Desktop/PhD/Analysis/FreeMax/\" + case_name + \"/\" + case_name + \"_\"+ \"ME_\" + roi + \"_mask.nii.gz\"\n",
    "crop_path = \"C:/Users/jv21/Desktop/PhD/Analysis/FreeMax/\" + case_name + \"/\" \n",
    "\n",
    "nifti_image = sitk.ReadImage(nifti_directory)\n",
    "image_array = sitk.GetArrayFromImage(nifti_image)\n",
    "roi_image = sitk.ReadImage(ROI_path)\n",
    "roi_array = sitk.GetArrayFromImage(roi_image)\n",
    "\n",
    "crop_images = np.zeros((nO_echoes,(x_dim*y_dim*nO_slices)))\n",
    "\n",
    "for i in range(nO_echoes):\n",
    "    image_array[i][roi_array==0]=0\n",
    "    flat_array = np.ndarray.flatten(image_array[i])\n",
    "    crop_images[i,:] = flat_array\n",
    "\n",
    "# Find nonzero voxel idx\n",
    "nz_idx = []\n",
    "\n",
    "for i in range(crop_images.shape[1]):\n",
    "    sol = (crop_images[:,i]!=0).all()\n",
    "    if (sol == True):\n",
    "        nz_idx.append(i)\n",
    "    else:\n",
    "        pass    "
   ]
  },
  {
   "cell_type": "code",
   "execution_count": 40,
   "id": "3a02e5a0",
   "metadata": {},
   "outputs": [],
   "source": [
    "# In case you want to visualize the cropped images you can save them\n",
    "\n",
    "crop_path = \"C:/Users/jv21/Desktop/PhD/Analysis/FreeMax/\" + case_name + \"/\" + \"Cropped/\"\n",
    "\n",
    "for i in range(nO_echoes):\n",
    "    image_array[i][roi_array==0]=0\n",
    "    crop_image =sitk.GetImageFromArray(image_array[i])\n",
    "    crop_image.CopyInformation(nifti_image[:,:,:,0])\n",
    "    crop_image_path = crop_path + case_name + \"_\" + sequence_type + \"_\" + roi + \"_\" + \"TE\" + str(i) + \"_crop.nii.gz\"\n",
    "    sitk.WriteImage(crop_image, crop_image_path)\n"
   ]
  },
  {
   "cell_type": "code",
   "execution_count": 41,
   "id": "2037434d",
   "metadata": {},
   "outputs": [],
   "source": [
    "# T2 fit function\n",
    "\n",
    "def t2fit(X,data,TEs):\n",
    "    TEs=np.array(TEs,dtype=float)\n",
    "    X=np.array(X,dtype=float)\n",
    "    S = X[0] * ((np.exp(-(TEs/X[1]))))                  \n",
    "    return data - S\n",
    "\n",
    "def t2fiteval(X, TEs):\n",
    "    TEs=np.array(TEs,dtype=float)\n",
    "    X=np.array(X,dtype=float)\n",
    "    S = X[0] * ((np.exp(-(TEs/X[1]))))                  \n",
    "    return S"
   ]
  },
  {
   "cell_type": "code",
   "execution_count": 42,
   "id": "104ff26b",
   "metadata": {},
   "outputs": [],
   "source": [
    "# Obtain T2 map\n",
    "\n",
    "T2_map = np.zeros((2,(x_dim*y_dim*nO_slices)))\n",
    "\n",
    "for i in range(len(nz_idx)):\n",
    "    pix_array = crop_images[:,nz_idx[i]]\n",
    "    param_init = np.squeeze([pix_array[0], np.average(TE_array)])\n",
    "    result = least_squares(t2fit, param_init, args = (pix_array,TE_array), bounds=([0,0],[10000,1000]))\n",
    "    T2_map[0,nz_idx[i]]= result.x[0]\n",
    "    T2_map[1,nz_idx[i]]= result.x[1]\n"
   ]
  },
  {
   "cell_type": "code",
   "execution_count": 43,
   "id": "e3125e91",
   "metadata": {},
   "outputs": [],
   "source": [
    "# Obtain T2 map residuals\n",
    "\n",
    "T2_residuals_all = np.zeros((1,(x_dim*y_dim*nO_slices)))\n",
    "T2_residuals = np.zeros((1,len(nz_idx)))\n",
    "\n",
    "for i in range(len(nz_idx)):\n",
    "    pix_array = crop_images[:,nz_idx[i]]\n",
    "    result = [T2_map[0,nz_idx[i]] , T2_map[1,nz_idx[i]]]\n",
    "    fit = t2fiteval(result, TE_array)\n",
    "    #residual = np.sqrt(np.sum((((pix_array - fit)**2)/nO_echoes))\n",
    "    residual = 100*(np.sum(np.abs((pix_array - fit)/pix_array)/nO_echoes))\n",
    "    T2_residuals_all[:,nz_idx[i]] = residual\n",
    "    T2_residuals[:,i] = residual"
   ]
  },
  {
   "cell_type": "code",
   "execution_count": 44,
   "id": "534753d9",
   "metadata": {},
   "outputs": [
    {
     "name": "stdout",
     "output_type": "stream",
     "text": [
      "2.7316336690946574\n",
      "32.53344739329136\n"
     ]
    },
    {
     "data": {
      "image/png": "[encoded data removed]",
      "text/plain": [
       "<Figure size 432x288 with 1 Axes>"
      ]
     },
     "metadata": {
      "needs_background": "light"
     },
     "output_type": "display_data"
    }
   ],
   "source": [
    "# Obtain an histogram of the residuals \n",
    "n, bins,patches = plt.hist(np.array(T2_residuals[0]),bins = 128, range= (0,100))\n",
    "\n",
    "# Print mean and maximum value of T2 residuals\n",
    "print(np.mean(np.abs(T2_residuals)))\n",
    "print(np.max(np.abs(T2_residuals)))"
   ]
  },
  {
   "cell_type": "code",
   "execution_count": 45,
   "id": "944a329c",
   "metadata": {},
   "outputs": [],
   "source": [
    "#Save T2 map\n",
    "\n",
    "t2map_path =  \"C:/Users/jv21/Desktop/PhD/Analysis/FreeMax/\" + case_name + \"/\" + case_name +\"_\" + sequence_type + roi + \"_t2map.nii.gz\"\n",
    "\n",
    "t2_val = T2_map[1,:]\n",
    "t2_val = np.reshape(t2_val, (nO_slices,x_dim,y_dim))\n",
    "image = sitk.GetImageFromArray(t2_val)\n",
    "image.CopyInformation(nifti_image[:,:,:,0])\n",
    "sitk.WriteImage(image,t2map_path)"
   ]
  },
  {
   "cell_type": "code",
   "execution_count": 46,
   "id": "aedd1f53",
   "metadata": {},
   "outputs": [],
   "source": [
    "#Save T2 map residuals\n",
    "\n",
    "t2residual_path =  \"C:/Users/jv21/Desktop/PhD/Analysis/FreeMax/\" + case_name + \"/\" + case_name +\"_\" + sequence_type + roi + \"_residualmap.nii.gz\"\n",
    "\n",
    "t2_r = np.reshape(T2_residuals_all, (nO_slices,x_dim,y_dim))\n",
    "image = sitk.GetImageFromArray(t2_r)\n",
    "image.CopyInformation(nifti_image[:,:,:,0])\n",
    "sitk.WriteImage(image,t2residual_path)"
   ]
  }
 ],
 "metadata": {
  "kernelspec": {
   "display_name": "Python 3 (ipykernel)",
   "language": "python",
   "name": "python3"
  },
  "language_info": {
   "codemirror_mode": {
    "name": "ipython",
    "version": 3
   },
   "file_extension": ".py",
   "mimetype": "text/x-python",
   "name": "python",
   "nbconvert_exporter": "python",
   "pygments_lexer": "ipython3",
   "version": "3.9.7"
  }
 },
 "nbformat": 4,
 "nbformat_minor": 5
}
